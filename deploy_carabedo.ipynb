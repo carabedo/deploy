{
 "cells": [
  {
   "cell_type": "markdown",
   "metadata": {
    "slideshow": {
     "slide_type": "slide"
    }
   },
   "source": [
    "# Deploy\n",
    "\n",
    "\n"
   ]
  },
  {
   "cell_type": "markdown",
   "metadata": {
    "slideshow": {
     "slide_type": "slide"
    }
   },
   "source": [
    "### The GET Method\n",
    "\n",
    "**GET is used to request data from a specified resource.**\n",
    "\n",
    "GET is one of the most common HTTP methods.\n",
    "\n",
    "Note that the query string (name/value pairs) is sent in the URL of a GET request:\n",
    "\n",
    ">/test/demo_form.php?name1=value1&name2=value2\n",
    "\n",
    "\n",
    "* GET requests can be cached\n",
    "* GET requests remain in the browser history\n",
    "* GET requests can be bookmarked\n",
    "* GET requests should never be used when dealing with sensitive data\n",
    "* GET requests have length restrictions\n",
    "* GET requests are only used to request data (not modify)"
   ]
  },
  {
   "cell_type": "markdown",
   "metadata": {
    "slideshow": {
     "slide_type": "slide"
    }
   },
   "source": [
    "# Flask:\n",
    "\n",
    "Nos permite apificar nuestro modelo, en realidad cualquier script de python. Podemos enviar un GET requests a algun puerto de nuestra computadora. Ese requests puede contener los parametros que luego el script va usar.\n",
    "\n",
    "En este ejemplo, una simple app que imprime el cuadrado de la variable 'a' si es que existe. Para que funcione deben guardar el siguiente codigo en un archivo 'prueba.py' y correrlo en la consola `python prueba.py`:\n",
    "\n",
    "```python\n",
    "from flask import Flask, jsonify, request\n",
    "app = Flask('Servidor Get')\n",
    "@app.route('/',methods=['GET'])\n",
    "\n",
    "def hola():\n",
    "    # obtengo los datos del request que viene de la peticion \n",
    "    # externa (el metodo get_json lo transforma en un diccionario)\n",
    "    data=request.args.to_dict()\n",
    "    try:            \n",
    "        resp='el cuadrado de a es : '+str(int(data['a'])*int(data['a']))\n",
    "    except:\n",
    "        resp='no se envio la variable a'\n",
    "    return(resp)\n",
    "\n",
    "app.run(host='0.0.0.0',  port=5002 )\n",
    "```"
   ]
  },
  {
   "cell_type": "markdown",
   "metadata": {
    "slideshow": {
     "slide_type": "subslide"
    }
   },
   "source": [
    "\n",
    "\n",
    "* http://127.0.0.1:5002/?a=4\n",
    "\n",
    "* http://127.0.0.1:5002/?a=4&b='asdfasf'\n",
    "\n",
    "* http://deploy.myftp.org:5002/?c=4&b='asdfasf'\n",
    "\n",
    "Y si quisiera pasarle un vector?\n",
    "\n",
    "* http://127.0.0.1:5002/?c=4&a=['1','12']\n",
    "\n"
   ]
  },
  {
   "cell_type": "markdown",
   "metadata": {
    "slideshow": {
     "slide_type": "subslide"
    }
   },
   "source": [
    "### The POST Method\n",
    "\n",
    "**POST is used to send data to a server to create/update a resource.**\n",
    "\n",
    ">The data sent to the server with POST is stored in the request body of the HTTP request:\n",
    "\n",
    "```\n",
    "POST /test/demo_form.php HTTP/1.1\n",
    "Host: w3schools.com\n",
    "name1=value1&name2=value2\n",
    "POST is one of the most common HTTP methods.\n",
    "```\n",
    "\n",
    "Some other notes on POST requests:\n",
    "\n",
    "* POST requests are never cached\n",
    "* POST requests do not remain in the browser history\n",
    "* POST requests cannot be bookmarked\n",
    "* POST requests have no restrictions on data length"
   ]
  },
  {
   "cell_type": "markdown",
   "metadata": {
    "slideshow": {
     "slide_type": "subslide"
    }
   },
   "source": [
    "Queremos pasar la variable 'a' como un vector, con el metodo POST es muy sencillo."
   ]
  },
  {
   "cell_type": "code",
   "execution_count": null,
   "metadata": {
    "scrolled": false,
    "slideshow": {
     "slide_type": "fragment"
    }
   },
   "outputs": [],
   "source": [
    "import requests as req\n",
    "import json\n",
    "\n",
    "# parametros, la url y un diccionario\n",
    "url='http://127.0.0.1:5001/' # <--- url por default en servidor\n",
    "\n",
    "data = { 'a': ['1', '-2', '4', '13', '5', '0', '10', '1'] ,\n",
    "          'b' : 2342 }\n",
    "\n",
    "# el requests\n",
    "r = req.post(url2, json.dumps(data))\n",
    "r"
   ]
  },
  {
   "cell_type": "code",
   "execution_count": 22,
   "metadata": {
    "slideshow": {
     "slide_type": "fragment"
    }
   },
   "outputs": [
    {
     "data": {
      "text/plain": [
       "{'response': [1, 4, 16, 169, 25, 0, 100, 1]}"
      ]
     },
     "execution_count": 22,
     "metadata": {},
     "output_type": "execute_result"
    }
   ],
   "source": [
    "r.json()"
   ]
  },
  {
   "cell_type": "code",
   "execution_count": 23,
   "metadata": {
    "slideshow": {
     "slide_type": "fragment"
    }
   },
   "outputs": [
    {
     "data": {
      "text/plain": [
       "[1, 4, 16, 169, 25, 0, 100, 1]"
      ]
     },
     "execution_count": 23,
     "metadata": {},
     "output_type": "execute_result"
    }
   ],
   "source": [
    "r.json()['response']"
   ]
  },
  {
   "cell_type": "code",
   "execution_count": 24,
   "metadata": {
    "slideshow": {
     "slide_type": "fragment"
    }
   },
   "outputs": [
    {
     "data": {
      "text/plain": [
       "list"
      ]
     },
     "execution_count": 24,
     "metadata": {},
     "output_type": "execute_result"
    }
   ],
   "source": [
    "type(r.json()['response'])"
   ]
  },
  {
   "cell_type": "code",
   "execution_count": 158,
   "metadata": {
    "slideshow": {
     "slide_type": "subslide"
    }
   },
   "outputs": [],
   "source": [
    "from flask import Flask, jsonify, request\n",
    "app = Flask('Predictor de examenes')\n",
    "#aclaramos la ruta del recurso y el tipo: (podriamos poner /modelos/listener)\n",
    "@app.route('/',methods=['POST'])\n",
    "#solo con esta linea, ya tenemos un recurso recibiendo requests en \"127.0.0.1/\".\n",
    "\n",
    "#defino la funcion que manejarara el request\n",
    "def predict():\n",
    "    # obtengo los datos del request post\n",
    "    # que viene de la peticion externa (el metodo get_json lo transforma en un diccionario)\n",
    "    data = request.get_json(force=True)\n",
    "    try:\n",
    "        a_vector = np.array(data['a']).astype('int')\n",
    "        # Le damos forma de un diccionario para poder hacer el traspaso a json trivialmente\n",
    "        a_2=a_vector**2\n",
    "        #importante pasar a lista los numpy arrays     \n",
    "        resp={'response' : a_2.tolist() }\n",
    "    except:\n",
    "        print('no mandaron a')\n",
    "        resp={'response' : 'no esta presente la variable a'}\n",
    "       \n",
    "        # en esta linea, transformamos el diccionario en json con jsonify (funcionalidad de flask)\n",
    "        # este json es incorporado en el cuerpo de la respuesta\n",
    "    return jsonify(resp)"
   ]
  },
  {
   "cell_type": "markdown",
   "metadata": {
    "slideshow": {
     "slide_type": "slide"
    }
   },
   "source": [
    "# Ok... algo un poco mas interactivo, no hay?"
   ]
  },
  {
   "cell_type": "markdown",
   "metadata": {
    "slideshow": {
     "slide_type": "subslide"
    }
   },
   "source": [
    "Esta app de Flask genera un servidor de Bokeh, con el cual podemos interactuar!\n",
    "Es un ploteo de una funcion trigonometrica definida segun:\n",
    "\n",
    "$$ x =  (x_0,x_1,x_2,...,x_n) $$\n",
    "$$ f(x) = a \\cdot sen(b \\cdot x ) $$\n",
    "\n",
    "\n",
    "*   http://127.0.0.1:5002/?a=2&b=10&n=1000\n",
    "*   http://127.0.0.1:5002/?a=2&b=50&n=1000\n",
    "*   http://127.0.0.1:5002/?a=2&b=80&n=10000\n",
    "*   http://deploy.myftp.org:5002/?a=2&b=80&n=10000"
   ]
  },
  {
   "cell_type": "markdown",
   "metadata": {
    "slideshow": {
     "slide_type": "subslide"
    }
   },
   "source": [
    "```python\n",
    "from bokeh.embed import components\n",
    "from bokeh.plotting import figure\n",
    "from bokeh.resources import INLINE\n",
    "from flask import Flask, jsonify, request, render_template\n",
    "import numpy as np\n",
    "from bokeh.models import Range1d\n",
    "\n",
    "app = Flask('Ejemplo Bokeh')\n",
    "@app.route('/',methods=['GET'])\n",
    "def bokeh():\n",
    "    data=request.args.to_dict()\n",
    "    a=int(data['a'])\n",
    "    b=int(data['b'])\n",
    "    n=int(data['n'])\n",
    "    x=np.linspace(0,10,n)\n",
    "    y=a*np.sin(b*x)\n",
    "    fig = figure(plot_width=1280, plot_height=600)\n",
    "    fig.line(x,y)\n",
    "    left, right, bottom, top = 0, 10, -10, 10\n",
    "    fig.x_range=Range1d(left, right)\n",
    "    fig.y_range=Range1d(bottom, top)\n",
    "    # magia html del bokeh\n",
    "    js_resources = INLINE.render_js()\n",
    "    css_resources = INLINE.render_css()\n",
    "    script, div = components(fig)\n",
    "    html = render_template(\n",
    "        'index.html',\n",
    "        plot_script=script,\n",
    "        plot_div=div,\n",
    "        js_resources=js_resources,\n",
    "        css_resources=css_resources,\n",
    "    )\n",
    "    return html.encode('utf8')\n",
    "app.run(host='0.0.0.0',  port=5002)\n",
    "```"
   ]
  },
  {
   "cell_type": "markdown",
   "metadata": {
    "slideshow": {
     "slide_type": "fragment"
    }
   },
   "source": [
    "## Y dash? Eso que plotly me quiere vender todo el tiempo?\n",
    "\n",
    "\n",
    "https://plotly.com/dash/\n"
   ]
  },
  {
   "cell_type": "markdown",
   "metadata": {
    "slideshow": {
     "slide_type": "slide"
    }
   },
   "source": [
    "# Streamlit\n",
    "\n",
    "* Flask tiene la gran desventaja que solo se puede interactuar mediante requests.\n",
    "\n",
    "* Streamlit es un framework para crear web-apps de una manera super sencilla y dinámica.\n",
    "\n",
    "* Todos los elementos de una página web son definidos en un **script de python**. Cada uno será definido por una función y a medida que los agregamos podemos ver su resultado en una página de nuestro navegador.\n"
   ]
  },
  {
   "cell_type": "markdown",
   "metadata": {
    "slideshow": {
     "slide_type": "skip"
    }
   },
   "source": [
    "![](https://raw.githubusercontent.com/streamlit/docs/main/public/images/Streamlit_overview.gif)\n",
    "\n"
   ]
  },
  {
   "cell_type": "markdown",
   "metadata": {
    "slideshow": {
     "slide_type": "subslide"
    }
   },
   "source": [
    "\n",
    "<video width=\"720\"  controls>\n",
    "  <source src=\"https://s3-us-west-2.amazonaws.com/assets.streamlit.io/videos/hero-video.mp4\" type=\"video/mp4\">\n",
    "</video>"
   ]
  },
  {
   "cell_type": "markdown",
   "metadata": {
    "slideshow": {
     "slide_type": "subslide"
    }
   },
   "source": [
    "```python\n",
    "import streamlit as st\n",
    "\n",
    "x=st.slider('eleji valor')\n",
    "\n",
    "st.write('el cubo de ',x , ' es', x*x*x)\n",
    "```"
   ]
  },
  {
   "cell_type": "markdown",
   "metadata": {
    "slideshow": {
     "slide_type": "fragment"
    }
   },
   "source": [
    "![](1.png)"
   ]
  },
  {
   "cell_type": "markdown",
   "metadata": {
    "slideshow": {
     "slide_type": "subslide"
    }
   },
   "source": [
    "https://www.streamlit.io/"
   ]
  },
  {
   "cell_type": "markdown",
   "metadata": {
    "slideshow": {
     "slide_type": "subslide"
    }
   },
   "source": [
    "\n",
    "* Las apps de Streamlit son scripts de python que se ejecutan secuencialmente. \n",
    "\n",
    "* Cada vez que un usuario accede a la app, el script se re ejecuta.\n",
    "\n",
    "* Duran la ejeccion, Streamlit muestra el output en el navegador.\n",
    "\n",
    "* Cada interaccion con un widget hace que el script se re-ejecute con el nuevo valor del widget.\n",
    "\n",
    "* Se puede usar **cache** para evitar recalcular funciones muy pesadas, mejorando el tiempo de respuesta de la app.\n"
   ]
  },
  {
   "cell_type": "markdown",
   "metadata": {
    "slideshow": {
     "slide_type": "subslide"
    }
   },
   "source": [
    "## Widgets\n",
    "\n",
    "Los widgets son objetos que sirve para que el usuario interactue con los datos o el modelo, hay una extensa lista:\n",
    "\n",
    "https://docs.streamlit.io/en/stable/api.html\n",
    "\n",
    "Ejemplo:\n",
    "\n",
    "```python\n",
    "import streamlit as st\n",
    "x = st.slider('x')  # 👈 widget\n",
    "st.write(x, 'squared is', x * x)\n",
    "```\n",
    "\n",
    "En este ejmeplo la app tira un output “0 squared is 0”. Cada vez que el usuario interactua , Streamlit vuelve a ejecutar el script entero, asignando el nuevo valor a la variable asociadad al widget. Si fuera 10, Streamlit corre el codigo y daria como output “10 squared is 100”.\n",
    "\n",
    "## Componentes \n",
    "\n",
    "Extienden la funcionalidad de Streamlit.\n",
    "\n",
    "https://www.streamlit.io/components"
   ]
  },
  {
   "cell_type": "markdown",
   "metadata": {
    "slideshow": {
     "slide_type": "subslide"
    }
   },
   "source": [
    "```python\n",
    "import streamlit as st\n",
    "import pandas as pd \n",
    "import numpy as np\n",
    "import matplotlib.pyplot as plt\n",
    "from bokeh.plotting import figure\n",
    "\n",
    "# widget de latex\n",
    "st.latex('f(x) = a\\sin( \\omega  x)')\n",
    "\n",
    "# widget input numerica\n",
    "a = st.number_input('Insert a',1)\n",
    "\n",
    "# texto\n",
    "st.write('a = ', a)\n",
    "\n",
    "#widget de sliders\n",
    "b = st.slider('w', 0, 10, 1)\n",
    "n = st.slider('n', 0, 500, 25) \n",
    "\n",
    "# python \n",
    "x=np.linspace(0,10,int(n))\n",
    "y=a*np.sin(b*x)\n",
    "p = figure(\n",
    "     title='plot',\n",
    "     x_axis_label='x',\n",
    "     y_axis_label='y')\n",
    "p.line(x, y, legend_label='sin(x)', line_width=2)\n",
    "p.circle(x, y, legend_label='sin(x)', line_width=2)\n",
    "\n",
    "#widget de bokeh\n",
    "st.bokeh_chart(p, use_container_width=True)\n",
    "```"
   ]
  },
  {
   "cell_type": "markdown",
   "metadata": {
    "slideshow": {
     "slide_type": "subslide"
    }
   },
   "source": [
    "Guardamos todo el codigo en un archivo \".py\" y luego lo ejecutamos desde la consola:\n",
    "    \n",
    "```shell\n",
    "streamlit run miarchivito.py\n",
    "```\n"
   ]
  },
  {
   "cell_type": "markdown",
   "metadata": {
    "slideshow": {
     "slide_type": "fragment"
    }
   },
   "source": [
    "http://3.138.190.237:8501/\n",
    "\n",
    "http://deploy.myftp.org:8501"
   ]
  },
  {
   "cell_type": "markdown",
   "metadata": {
    "slideshow": {
     "slide_type": "fragment"
    }
   },
   "source": [
    "### Muy bonito! pero como se lo muestro al cliente/jefa/mivieja? \n",
    "\n",
    "\n",
    "* Firewalls\n",
    "\n",
    "* Llamar a fibertel para que abran puertos o habiliten una DMZ\n",
    "\n",
    "* Peligroso\n",
    "\n",
    "* Siempre tiene que estar corriendo la terminal de python\n",
    "\n"
   ]
  },
  {
   "cell_type": "markdown",
   "metadata": {
    "slideshow": {
     "slide_type": "slide"
    }
   },
   "source": [
    "# Cloud computing\n",
    "\n",
    "![](2.png)"
   ]
  },
  {
   "cell_type": "markdown",
   "metadata": {
    "slideshow": {
     "slide_type": "subslide"
    }
   },
   "source": [
    "![](3.png)"
   ]
  },
  {
   "cell_type": "markdown",
   "metadata": {
    "slideshow": {
     "slide_type": "subslide"
    }
   },
   "source": [
    "### Heroku\n",
    "\n",
    "* Gratis, sin tarjeta de credito a diferencia de AWS\n",
    "\n",
    "* Se integra muy bien con GITHUB\n",
    "\n",
    "Una vez que tenemos nuestra app de streamlit funcionando en nuestra compu, creamos un repo en github y subimos el \".py\" con nuestra app y 3 archivos mas:\n",
    "\n",
    "```shell\n",
    "app_st.py\n",
    "requirements.txt\n",
    "runtime.txt\n",
    "Procfile\n",
    "create_config.sh\n",
    "```\n"
   ]
  },
  {
   "cell_type": "markdown",
   "metadata": {
    "slideshow": {
     "slide_type": "subslide"
    }
   },
   "source": [
    "![](4.png)\n"
   ]
  },
  {
   "cell_type": "markdown",
   "metadata": {
    "slideshow": {
     "slide_type": "subslide"
    }
   },
   "source": [
    "\n",
    "<img src=\"5.png\" style=\"width: 500px;\"/>\n",
    "\n",
    "[Repo](https://github.com/carabedo/properatti)\n",
    "[App](https://geopami.herokuapp.com/)"
   ]
  },
  {
   "cell_type": "markdown",
   "metadata": {
    "slideshow": {
     "slide_type": "slide"
    }
   },
   "source": [
    "# IAAS (infrastructure-as-a-service)\n",
    "\n",
    "\n",
    "![](iaas.jpg)\n",
    "\n"
   ]
  },
  {
   "cell_type": "markdown",
   "metadata": {
    "slideshow": {
     "slide_type": "slide"
    }
   },
   "source": [
    "\n",
    "## Virtual Machines\n",
    "\n",
    "\n",
    "Ejemplo en oracle:\n",
    "\n",
    "Creamos una instancia [aca](https://cloud.oracle.com/compute/instances?region=sa-vinhedo-1)\n"
   ]
  },
  {
   "cell_type": "markdown",
   "metadata": {
    "slideshow": {
     "slide_type": "slide"
    }
   },
   "source": [
    "## ssh\n",
    "\n",
    "\n",
    "Le cambiamos los permisos a la llave que nos bajamos:\n",
    "\n",
    "`chmod 400 <private_key_file>`\n",
    "\n",
    "En mi caso:\n",
    "\n",
    "`ssh -i sshtest.key` \n",
    "\n",
    "Nos conectamos a una terminal de la maquina virtual usando la llave:\n",
    "\n",
    "`ssh -i <private_key_file> <username>@<public-ip-address>`\n",
    "\n",
    "En mi caso:\n",
    "\n",
    "` ssh -i sshtest.key opc@193.123.101.232`      \n",
    "\n",
    "[tutorial de oracle](https://docs.oracle.com/en-us/iaas/Content/Compute/Tasks/accessinginstance.htm)"
   ]
  },
  {
   "cell_type": "markdown",
   "metadata": {
    "slideshow": {
     "slide_type": "slide"
    }
   },
   "source": [
    "## ssh\n",
    "\n",
    "Creemos una carpeta:\n",
    "\n",
    "`mkdir prueba`\n",
    "\n",
    "Entremos en la carpeta y creemos un archivo con codigo en python\n",
    "\n",
    "```\n",
    "    cd prueba\n",
    "    vim prueba.py\n",
    "```\n",
    "\n",
    "Ejecutemos nuestro script:\n",
    "\n",
    "`python3 prueba.py`"
   ]
  },
  {
   "cell_type": "markdown",
   "metadata": {
    "slideshow": {
     "slide_type": "slide"
    }
   },
   "source": [
    "## ssh con visualcode\n",
    "\n",
    "![](https://code.visualstudio.com/assets/docs/remote/ssh-tutorial/remote-ssh-extension.png)\n",
    "\n"
   ]
  },
  {
   "cell_type": "markdown",
   "metadata": {
    "slideshow": {
     "slide_type": "slide"
    }
   },
   "source": [
    "![](https://code.visualstudio.com/assets/docs/remote/ssh-tutorial/remote-commands.png)"
   ]
  },
  {
   "cell_type": "markdown",
   "metadata": {
    "slideshow": {
     "slide_type": "slide"
    }
   },
   "source": [
    "Hay que editar el archivo que guarda la direccion de las maquinas virtuales y la ubicacion en nuestra compu de las llaves. En Host ponemos el nombre que queremos, HostName es la ip de la maquina, luego el path de la .key en nuestra compu y por ultimo el nombre del usuario en la maquina virtual para las vms de oracle es `opc`.\n",
    "\n",
    "```\n",
    "Host Oracle\n",
    "  HostName 193.123.110.190\n",
    "  IdentityFile /Users/fernando/gits/deploy/sshtest.key\n",
    "  User opc\n",
    "```\n",
    "\n",
    "No importa en que plataforma tenemos nuestra maquina virtual, solo necesitamos la ip publica, una llave y saber el nombre de nuestro usuario."
   ]
  },
  {
   "cell_type": "markdown",
   "metadata": {
    "slideshow": {
     "slide_type": "slide"
    }
   },
   "source": [
    "# bokeh en una vm\n",
    "\n",
    "levantemos un servidor de bokeh en nuestra vm\n",
    "\n",
    "ahora nuestra 'app' es accesible desde cualquier maquina\n",
    "\n"
   ]
  },
  {
   "cell_type": "markdown",
   "metadata": {
    "slideshow": {
     "slide_type": "slide"
    }
   },
   "source": [
    "# Serverless\n",
    "![](6.png)"
   ]
  },
  {
   "cell_type": "markdown",
   "metadata": {
    "slideshow": {
     "slide_type": "slide"
    }
   },
   "source": [
    "# lambdas (aws)\n",
    "\n",
    "### api gateway\n",
    "### layers\n",
    "\n",
    "https://github.com/keithrozario/Klayers\n",
    "\n",
    "### test&deploy\n",
    "\n",
    "```python\n",
    "import json\n",
    "import numpy as np\n",
    "\n",
    "def lambda_handler(event, context):\n",
    "    body = json.loads(event['body'])\n",
    "    x=np.array(body['x'])\n",
    "    y=x**2 \n",
    "    result=[{'body' : body, 'y' : y.tolist(), 'name' : 'cuadratica'}]\n",
    "    return {\n",
    "        'statusCode': 200,\n",
    "        'body': json.dumps(result)\n",
    "    }\n",
    "```\n"
   ]
  },
  {
   "cell_type": "code",
   "execution_count": 151,
   "metadata": {
    "slideshow": {
     "slide_type": "slide"
    }
   },
   "outputs": [
    {
     "data": {
      "text/plain": [
       "<Response [200]>"
      ]
     },
     "execution_count": 151,
     "metadata": {},
     "output_type": "execute_result"
    }
   ],
   "source": [
    "data={\"x\": np.array([1,2,3,4]).tolist()}\n",
    "respuesta=req.post('https://6xpc1u0n12.execute-api.us-east-2.amazonaws.com/default/test2',json=data)\n",
    "respuesta"
   ]
  },
  {
   "cell_type": "code",
   "execution_count": 152,
   "metadata": {
    "scrolled": true,
    "slideshow": {
     "slide_type": "fragment"
    }
   },
   "outputs": [
    {
     "data": {
      "text/plain": [
       "[{'body': {'x': [1, 2, 3, 4]}, 'y': [1, 4, 9, 16], 'name': 'cuadratica'}]"
      ]
     },
     "execution_count": 152,
     "metadata": {},
     "output_type": "execute_result"
    }
   ],
   "source": [
    "respuesta.json()"
   ]
  },
  {
   "cell_type": "code",
   "execution_count": 153,
   "metadata": {
    "slideshow": {
     "slide_type": "fragment"
    }
   },
   "outputs": [
    {
     "data": {
      "text/plain": [
       "(list, int)"
      ]
     },
     "execution_count": 153,
     "metadata": {},
     "output_type": "execute_result"
    }
   ],
   "source": [
    "type(respuesta.json()[0]['y']),type(respuesta.json()[0]['y'][0])"
   ]
  },
  {
   "cell_type": "code",
   "execution_count": 154,
   "metadata": {
    "scrolled": false,
    "slideshow": {
     "slide_type": "slide"
    }
   },
   "outputs": [
    {
     "data": {
      "text/html": [
       "<div>\n",
       "<style scoped>\n",
       "    .dataframe tbody tr th:only-of-type {\n",
       "        vertical-align: middle;\n",
       "    }\n",
       "\n",
       "    .dataframe tbody tr th {\n",
       "        vertical-align: top;\n",
       "    }\n",
       "\n",
       "    .dataframe thead th {\n",
       "        text-align: right;\n",
       "    }\n",
       "</style>\n",
       "<table border=\"1\" class=\"dataframe\">\n",
       "  <thead>\n",
       "    <tr style=\"text-align: right;\">\n",
       "      <th></th>\n",
       "      <th>temp</th>\n",
       "      <th>venta</th>\n",
       "    </tr>\n",
       "  </thead>\n",
       "  <tbody>\n",
       "    <tr>\n",
       "      <th>0</th>\n",
       "      <td>12.2</td>\n",
       "      <td>125</td>\n",
       "    </tr>\n",
       "    <tr>\n",
       "      <th>1</th>\n",
       "      <td>14.4</td>\n",
       "      <td>175</td>\n",
       "    </tr>\n",
       "    <tr>\n",
       "      <th>2</th>\n",
       "      <td>15.0</td>\n",
       "      <td>325</td>\n",
       "    </tr>\n",
       "    <tr>\n",
       "      <th>3</th>\n",
       "      <td>16.7</td>\n",
       "      <td>275</td>\n",
       "    </tr>\n",
       "    <tr>\n",
       "      <th>4</th>\n",
       "      <td>17.8</td>\n",
       "      <td>425</td>\n",
       "    </tr>\n",
       "    <tr>\n",
       "      <th>5</th>\n",
       "      <td>18.3</td>\n",
       "      <td>400</td>\n",
       "    </tr>\n",
       "    <tr>\n",
       "      <th>6</th>\n",
       "      <td>19.4</td>\n",
       "      <td>450</td>\n",
       "    </tr>\n",
       "    <tr>\n",
       "      <th>7</th>\n",
       "      <td>22.2</td>\n",
       "      <td>425</td>\n",
       "    </tr>\n",
       "    <tr>\n",
       "      <th>8</th>\n",
       "      <td>22.8</td>\n",
       "      <td>450</td>\n",
       "    </tr>\n",
       "    <tr>\n",
       "      <th>9</th>\n",
       "      <td>23.9</td>\n",
       "      <td>525</td>\n",
       "    </tr>\n",
       "    <tr>\n",
       "      <th>10</th>\n",
       "      <td>25.0</td>\n",
       "      <td>550</td>\n",
       "    </tr>\n",
       "    <tr>\n",
       "      <th>11</th>\n",
       "      <td>26.7</td>\n",
       "      <td>625</td>\n",
       "    </tr>\n",
       "  </tbody>\n",
       "</table>\n",
       "</div>"
      ],
      "text/plain": [
       "    temp  venta\n",
       "0   12.2    125\n",
       "1   14.4    175\n",
       "2   15.0    325\n",
       "3   16.7    275\n",
       "4   17.8    425\n",
       "5   18.3    400\n",
       "6   19.4    450\n",
       "7   22.2    425\n",
       "8   22.8    450\n",
       "9   23.9    525\n",
       "10  25.0    550\n",
       "11  26.7    625"
      ]
     },
     "execution_count": 154,
     "metadata": {},
     "output_type": "execute_result"
    }
   ],
   "source": [
    "import pandas as pd\n",
    "\n",
    "df=pd.read_csv('https://raw.githubusercontent.com/carabedo/labs/master/data/freddo.csv')\n",
    "df"
   ]
  },
  {
   "cell_type": "code",
   "execution_count": 155,
   "metadata": {
    "slideshow": {
     "slide_type": "slide"
    }
   },
   "outputs": [
    {
     "data": {
      "text/plain": [
       "<Response [200]>"
      ]
     },
     "execution_count": 155,
     "metadata": {},
     "output_type": "execute_result"
    }
   ],
   "source": [
    "data={'x': df.values.tolist()}\n",
    "respuesta=req.post('https://6xpc1u0n12.execute-api.us-east-2.amazonaws.com/default/test2',json=data)\n",
    "respuesta"
   ]
  },
  {
   "cell_type": "code",
   "execution_count": 156,
   "metadata": {
    "slideshow": {
     "slide_type": "fragment"
    }
   },
   "outputs": [
    {
     "data": {
      "text/plain": [
       "[[148.83999999999997, 15625.0],\n",
       " [207.36, 30625.0],\n",
       " [225.0, 105625.0],\n",
       " [278.89, 75625.0],\n",
       " [316.84000000000003, 180625.0],\n",
       " [334.89000000000004, 160000.0],\n",
       " [376.35999999999996, 202500.0],\n",
       " [492.84, 180625.0],\n",
       " [519.84, 202500.0],\n",
       " [571.2099999999999, 275625.0],\n",
       " [625.0, 302500.0],\n",
       " [712.89, 390625.0]]"
      ]
     },
     "execution_count": 156,
     "metadata": {},
     "output_type": "execute_result"
    }
   ],
   "source": [
    "respuesta.json()[0]['y']"
   ]
  },
  {
   "cell_type": "code",
   "execution_count": 150,
   "metadata": {
    "slideshow": {
     "slide_type": "fragment"
    }
   },
   "outputs": [
    {
     "data": {
      "text/plain": [
       "(list, list, float)"
      ]
     },
     "execution_count": 150,
     "metadata": {},
     "output_type": "execute_result"
    }
   ],
   "source": [
    "type(respuesta.json()[0]['y']),type(respuesta.json()[0]['y'][0]),type(respuesta.json()[0]['y'][0][0])"
   ]
  }
 ],
 "metadata": {
  "celltoolbar": "Slideshow",
  "kernelspec": {
   "display_name": "Python 3 (ipykernel)",
   "language": "python",
   "name": "python3"
  },
  "language_info": {
   "codemirror_mode": {
    "name": "ipython",
    "version": 3
   },
   "file_extension": ".py",
   "mimetype": "text/x-python",
   "name": "python",
   "nbconvert_exporter": "python",
   "pygments_lexer": "ipython3",
   "version": "3.9.6"
  }
 },
 "nbformat": 4,
 "nbformat_minor": 4
}
