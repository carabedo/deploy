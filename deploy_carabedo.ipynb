{
 "cells": [
  {
   "cell_type": "markdown",
   "metadata": {
    "slideshow": {
     "slide_type": "slide"
    }
   },
   "source": [
    "# Deploy\n",
    "\n",
    "\n"
   ]
  },
  {
   "cell_type": "markdown",
   "metadata": {
    "slideshow": {
     "slide_type": "slide"
    }
   },
   "source": [
    "![](https://carabedo.github.io/apis/http.png)"
   ]
  },
  {
   "cell_type": "markdown",
   "metadata": {
    "slideshow": {
     "slide_type": "slide"
    }
   },
   "source": [
    "# Flask:\n",
    "\n",
    "Nos permite 'apificar' nuestro modelo, en realidad cualquier script de python. \n",
    "\n",
    "Podemos enviar un GET requests a algun puerto de nuestra computadora. \n",
    "\n",
    "\n",
    "Ese requests puede contener los parametros que luego el script va usar."
   ]
  },
  {
   "cell_type": "markdown",
   "metadata": {
    "slideshow": {
     "slide_type": "slide"
    }
   },
   "source": [
    "###  GET Method\n",
    "\n",
    "\n",
    "GET es el metodo HTTP mas comun, habran notado que navegando por la internet los siguiente:\n",
    "\n",
    ">www.ejemplo.com/demo_form.php?name1=value1&name2=value2\n",
    "\n",
    "En la URL del request estan los parametros del pedido.\n",
    "\n",
    "* GET requests can be cached\n",
    "* GET requests remain in the browser history\n",
    "* GET requests can be bookmarked\n",
    "* GET requests should never be used when dealing with sensitive data\n",
    "* GET requests have length restrictions\n",
    "* GET requests are only used to request data (not modify)"
   ]
  },
  {
   "cell_type": "markdown",
   "metadata": {
    "slideshow": {
     "slide_type": "slide"
    }
   },
   "source": [
    "En este es una simple app que imprime el cuadrado de la variable input 'a':\n",
    "\n",
    "```python\n",
    "from flask import Flask, jsonify, request\n",
    "app = Flask('Servidor Get') #nombre de la app\n",
    "@app.route('/',methods=['GET']) #metodo http que va a usar\n",
    "def funcionprincipal():#no importa el nombre el decorador se encarga\n",
    "    # obtengo los datos del request que viene de la peticion externa \n",
    "    data=request.args.to_dict() # (el metodo to_dict lo transforma en un diccionario)\n",
    "    try:# uso try por si no me envian una variable a           \n",
    "        resp='el cuadrado de a es : '+str(int(data['a'])*int(data['a']))\n",
    "    except:\n",
    "        resp='no se envio la variable a'\n",
    "    return(resp)\n",
    "app.run(host='127.0.0.1',  port=5002 )# host local puerto el que quieras\n",
    "```"
   ]
  },
  {
   "cell_type": "markdown",
   "metadata": {
    "slideshow": {
     "slide_type": "slide"
    }
   },
   "source": [
    "Para que funcione debemos guardar el codigo en un archivo 'prueba.py' \n",
    "\n",
    "y luego correrlo en la consola `python prueba.py`."
   ]
  },
  {
   "cell_type": "markdown",
   "metadata": {
    "slideshow": {
     "slide_type": "fragment"
    }
   },
   "source": [
    "\n",
    "\n",
    "* http://127.0.0.1:5002/?a=4\n",
    "\n",
    "* http://127.0.0.1:5002/?a=4&b='asdfasf'\n",
    "\n",
    "* http://127.0.0.1:5002/?c=4&b='asdfasf'\n",
    "\n",
    "Y si quisiera pasarle un vector?\n",
    "\n",
    "* http://127.0.0.1:5002/?a=['1','12']\n",
    "\n"
   ]
  },
  {
   "cell_type": "markdown",
   "metadata": {
    "slideshow": {
     "slide_type": "subslide"
    }
   },
   "source": [
    "###  POST Method\n",
    "\n",
    "**el metodo POST se usa para enviar informacion al servidor para crear o actualizar algun recurso.**\n",
    "\n",
    ">en esta caso la  data enviada al servidor con POST viaja en el cuerpo del request:\n",
    "\n",
    "```\n",
    "POST /test/demo_form.php HTTP/1.1\n",
    "Host: w3schools.com\n",
    "name1=value1&name2=value2\n",
    "POST is one of the most common HTTP methods.\n",
    "```\n",
    "\n",
    "* POST requests are never cached\n",
    "* POST requests do not remain in the browser history\n",
    "* POST requests cannot be bookmarked\n",
    "* POST requests have no restrictions on data length\n",
    "* Los requests POST no se pueden hacer desde un navegador"
   ]
  },
  {
   "cell_type": "code",
   "execution_count": null,
   "metadata": {
    "scrolled": true,
    "slideshow": {
     "slide_type": "slide"
    }
   },
   "outputs": [],
   "source": [
    "from flask import Flask, jsonify, request\n",
    "app = Flask('server post')\n",
    "@app.route('/',methods=['POST']) #aca definimos q recibe requests POST\n",
    "def predict(): #la funcion q se ejecuta \n",
    "    data = request.get_json(force=True)\n",
    "    try:\n",
    "        a_vector = np.array(data['a']).astype('int')\n",
    "        # Le damos forma de un diccionario para poder hacer el traspaso a json trivialmente\n",
    "        a_2=a_vector**2    \n",
    "        resp={'response' : a_2.tolist() }#importante pasar a lista los numpy arrays \n",
    "    except:\n",
    "        resp={'response' : 'no esta presente la variable a'}\n",
    "        # en esta linea, transformamos el diccionario en json con jsonify (funcionalidad de flask)\n",
    "        # este json es incorporado en el cuerpo de la respuesta\n",
    "    return jsonify(resp)\n",
    "app.run(host='127.0.0.1', port=5001)"
   ]
  },
  {
   "cell_type": "markdown",
   "metadata": {
    "slideshow": {
     "slide_type": "subslide"
    }
   },
   "source": [
    "Queremos pasar la variable 'a' como un vector, con el metodo POST es muy sencillo."
   ]
  },
  {
   "cell_type": "code",
   "execution_count": 44,
   "metadata": {
    "scrolled": false,
    "slideshow": {
     "slide_type": "fragment"
    }
   },
   "outputs": [
    {
     "data": {
      "text/plain": [
       "<Response [200]>"
      ]
     },
     "execution_count": 44,
     "metadata": {},
     "output_type": "execute_result"
    }
   ],
   "source": [
    "import requests as req\n",
    "import json\n",
    "# parametros, la url y un diccionario\n",
    "url='http://127.0.0.1:5001/' # <--- url por default en servidor\n",
    "data = { 'a': ['1', '-2', '4', '13', '5', '0', '10', '1'] , 'b' : 2342 }\n",
    "# el requests\n",
    "r = req.post(url, json=data)\n",
    "r"
   ]
  },
  {
   "cell_type": "code",
   "execution_count": 45,
   "metadata": {
    "slideshow": {
     "slide_type": "fragment"
    }
   },
   "outputs": [
    {
     "data": {
      "text/plain": [
       "{'response': [1, 4, 16, 169, 25, 0, 100, 1]}"
      ]
     },
     "execution_count": 45,
     "metadata": {},
     "output_type": "execute_result"
    }
   ],
   "source": [
    "r.json()"
   ]
  },
  {
   "cell_type": "code",
   "execution_count": 46,
   "metadata": {
    "slideshow": {
     "slide_type": "fragment"
    }
   },
   "outputs": [
    {
     "data": {
      "text/plain": [
       "[1, 4, 16, 169, 25, 0, 100, 1]"
      ]
     },
     "execution_count": 46,
     "metadata": {},
     "output_type": "execute_result"
    }
   ],
   "source": [
    "r.json()['response']"
   ]
  },
  {
   "cell_type": "code",
   "execution_count": 47,
   "metadata": {
    "slideshow": {
     "slide_type": "fragment"
    }
   },
   "outputs": [
    {
     "data": {
      "text/plain": [
       "list"
      ]
     },
     "execution_count": 47,
     "metadata": {},
     "output_type": "execute_result"
    }
   ],
   "source": [
    "type(r.json()['response'])"
   ]
  },
  {
   "cell_type": "code",
   "execution_count": 158,
   "metadata": {
    "slideshow": {
     "slide_type": "slide"
    }
   },
   "outputs": [],
   "source": [
    "from flask import Flask, jsonify, request\n",
    "app = Flask('Nombre')\n",
    "@app.route('/',methods=['POST'])\n",
    "#defino la funcion que manejarara el request\n",
    "def predict():\n",
    "    # obtengo los datos del request post\n",
    "    data = request.get_json(force=True)\n",
    "    ###\n",
    "    ### cositas lindas\n",
    "    ###\n",
    "    return jsonify(resp)\n",
    "\n",
    "app.run(host='127.0.0.1', port=5001)\n",
    "\n"
   ]
  },
  {
   "cell_type": "markdown",
   "metadata": {
    "slideshow": {
     "slide_type": "slide"
    }
   },
   "source": [
    "# Debugeando\n",
    "\n",
    "Este modo nos permite que la app se ejecute nuevamente cada vez que el archivo `miapp.py` sea modificado. Nos permite poder ir cambiando el codigo si es que algo no funciona bien, ayuda poner algunos `print` en el codigo lo que se vera en la consola donde este corriendo la app."
   ]
  },
  {
   "cell_type": "code",
   "execution_count": 158,
   "metadata": {
    "slideshow": {
     "slide_type": "fragment"
    }
   },
   "outputs": [],
   "source": [
    "from flask import Flask, jsonify, request\n",
    "app = Flask('Nombre')\n",
    "@app.route('/',methods=['POST'])\n",
    "def predict():\n",
    "    data = request.get_json(force=True)\n",
    "    return jsonify(resp)\n",
    "app.run(host='127.0.0.1', port=5001, debug=True)\n",
    "\n"
   ]
  },
  {
   "cell_type": "markdown",
   "metadata": {
    "slideshow": {
     "slide_type": "slide"
    }
   },
   "source": [
    "# Ok... algo un poco mas interactivo, no hay?"
   ]
  },
  {
   "cell_type": "markdown",
   "metadata": {
    "slideshow": {
     "slide_type": "subslide"
    }
   },
   "source": [
    "Esta app de Flask genera una pagina con un grafico de Plotly con el cual podemos interactuar!\n",
    "Vamos a armar un grafico con los datos de contagios de covid-19 para diferentes paises. Usamos requests GET asi el usuario puede mandar la informacion del pais del cual quiere ver los datos en la URL\n",
    "\n",
    "\n",
    "\n",
    "\n",
    "Local:\n",
    "\n",
    "*   http://127.0.0.1:5000/?paises=['AR','FR','ES']&tipo='muertes_100k'\n",
    "*   http://127.0.0.1:5000/?paises=['AR','FR','ES']&tipo='casos_100k'\n",
    "\n",
    "Externo:\n",
    "\n",
    "*   http://127.0.0.1:5000/?paises=['AR','FR','ES']&tipo='muertes_100k'\n",
    "\n",
    "\n",
    "https://en.wikipedia.org/wiki/ISO_3166-1_alpha-2"
   ]
  },
  {
   "cell_type": "markdown",
   "metadata": {
    "slideshow": {
     "slide_type": "subslide"
    }
   },
   "source": [
    "```python\n",
    "from flask import Flask, render_template\n",
    "from flask import jsonify, request\n",
    "import pandas as pd\n",
    "import json\n",
    "import plotly\n",
    "import plotly.express as px\n",
    "import requests as req\n",
    "import numpy as np\n",
    "```"
   ]
  },
  {
   "cell_type": "markdown",
   "metadata": {
    "slideshow": {
     "slide_type": "slide"
    }
   },
   "source": [
    "```python\n",
    "app = Flask(__name__)\n",
    "@app.route('/',methods=['GET'])\n",
    "def notdash():\n",
    "    params=request.args.to_dict()\n",
    "    paises=json.loads(params['paises'].replace('\\'', '\"'))\n",
    "    tipo=json.loads(params['tipo'].replace('\\'', '\"'))\n",
    "    fig = px.line(title=tipo)\n",
    "    for pais in paises:\n",
    "        r=req.get('http://corona-api.com/countries/' + pais)\n",
    "        t=[]\n",
    "        casos=[]\n",
    "        muertes=[]\n",
    "        data=r.json()\n",
    "        for day in data['data']['timeline']:\n",
    "                t.append(day['date'])\n",
    "                casos.append(day['new_confirmed'])\n",
    "                muertes.append(day['new_deaths'])\n",
    "        df=pd.DataFrame()\n",
    "        df.index=pd.to_datetime(t)\n",
    "        df['casos']=casos\n",
    "        df['muertes']=muertes\n",
    "        pop=data['data']['population']/100000\n",
    "        df['casos_100k']=np.array(casos)/pop\n",
    "        df['muertes_100k']=np.array(muertes)/pop\n",
    "        fig.add_scatter(x=df.index, y=df[tipo],name=pais,mode='markers+lines') \n",
    "    graphJSON = json.dumps(fig, cls=plotly.utils.PlotlyJSONEncoder)\n",
    "    return render_template('notdash.html', graphJSON=graphJSON)\n",
    "app.run(debug=True)\n",
    "```"
   ]
  },
  {
   "cell_type": "markdown",
   "metadata": {
    "slideshow": {
     "slide_type": "slide"
    }
   },
   "source": [
    "## Y dash? Eso que plotly me quiere vender todo el tiempo?\n",
    "\n",
    "\n",
    "https://dash.gallery/Portal/?search=[ML]\n",
    "\n",
    "![](https://images.prismic.io/plotly-marketing-website/e9302a4a-b71c-4061-b28b-f69a6ecbb041_Dash_autonomous.gif)\n"
   ]
  },
  {
   "cell_type": "markdown",
   "metadata": {
    "slideshow": {
     "slide_type": "slide"
    }
   },
   "source": [
    "# Streamlit\n",
    "\n",
    "* Flask tiene la gran desventaja que solo se puede interactuar mediante requests.\n",
    "\n",
    "* Streamlit es un framework para crear web-apps de una manera super sencilla y dinámica.\n",
    "\n",
    "* Todos los elementos de una página web son definidos en un **script de python**. Cada uno será definido por una función y a medida que los agregamos podemos ver su resultado en una página de nuestro navegador.\n"
   ]
  },
  {
   "cell_type": "markdown",
   "metadata": {
    "slideshow": {
     "slide_type": "slide"
    }
   },
   "source": [
    "![](https://raw.githubusercontent.com/streamlit/docs/main/public/images/Streamlit_overview.gif)\n",
    "\n"
   ]
  },
  {
   "cell_type": "markdown",
   "metadata": {
    "slideshow": {
     "slide_type": "subslide"
    }
   },
   "source": [
    "\n",
    "<video width=\"720\"  controls>\n",
    "  <source src=\"https://s3-us-west-2.amazonaws.com/assets.streamlit.io/videos/hero-video.mp4\" type=\"video/mp4\">\n",
    "</video>"
   ]
  },
  {
   "cell_type": "markdown",
   "metadata": {
    "slideshow": {
     "slide_type": "subslide"
    }
   },
   "source": [
    "```python\n",
    "import streamlit as st\n",
    "\n",
    "x=st.slider('eleji valor')\n",
    "\n",
    "st.write('el cubo de ',x , ' es', x*x*x)\n",
    "```"
   ]
  },
  {
   "cell_type": "markdown",
   "metadata": {
    "slideshow": {
     "slide_type": "fragment"
    }
   },
   "source": [
    "![](1.png)"
   ]
  },
  {
   "cell_type": "markdown",
   "metadata": {
    "slideshow": {
     "slide_type": "subslide"
    }
   },
   "source": [
    "https://www.streamlit.io/"
   ]
  },
  {
   "cell_type": "markdown",
   "metadata": {
    "slideshow": {
     "slide_type": "subslide"
    }
   },
   "source": [
    "\n",
    "* Las apps de Streamlit son scripts de python que se ejecutan secuencialmente. \n",
    "\n",
    "* Cada vez que un usuario accede a la app, el script se re ejecuta.\n",
    "\n",
    "* Duran la ejeccion, Streamlit muestra el output en el navegador.\n",
    "\n",
    "* Cada interaccion con un widget hace que el script se re-ejecute con el nuevo valor del widget.\n",
    "\n",
    "* Se puede usar **cache** para evitar recalcular funciones muy pesadas, mejorando el tiempo de respuesta de la app.\n"
   ]
  },
  {
   "cell_type": "markdown",
   "metadata": {
    "slideshow": {
     "slide_type": "subslide"
    }
   },
   "source": [
    "## widgets\n",
    "\n",
    "Los widgets son objetos que sirve para que el usuario interactue con los datos o el modelo, hay una extensa lista:\n",
    "\n",
    "https://docs.streamlit.io/en/stable/api.html\n",
    "\n",
    "Ejemplo:\n",
    "\n",
    "```python\n",
    "import streamlit as st\n",
    "x = st.slider('x')  # 👈 widget\n",
    "st.write(x, 'squared is', x * x)\n",
    "```\n",
    "\n",
    "En este ejmeplo la app tira un output “0 squared is 0”. Cada vez que el usuario interactua , Streamlit vuelve a ejecutar el script entero, asignando el nuevo valor a la variable asociadad al widget. Si fuera 10, Streamlit corre el codigo y daria como output “10 squared is 100”.\n",
    "\n",
    "## componentes \n",
    "\n",
    "widgets developeados por la comunidad que extienden la funcionalidad de Streamlit.\n",
    "\n",
    "https://www.streamlit.io/components"
   ]
  },
  {
   "cell_type": "markdown",
   "metadata": {
    "slideshow": {
     "slide_type": "subslide"
    }
   },
   "source": [
    "```python\n",
    "import streamlit as st\n",
    "import pandas as pd \n",
    "import numpy as np\n",
    "import plotly.express as px\n",
    "import requests as req\n",
    "\n",
    "paises = st.multiselect(\n",
    "     'Paises a visualizar:',\n",
    "     ['AR', 'BR', 'CH', 'UY','BO'])\n",
    "\n",
    "\n",
    "# texto\n",
    "option = st.selectbox(\n",
    "     'Que datos desea visualizar?',\n",
    "     ('casos_100k','muertes_100k'))\n",
    "\n",
    "tipo=option\n",
    "\n",
    "```"
   ]
  },
  {
   "cell_type": "markdown",
   "metadata": {
    "slideshow": {
     "slide_type": "subslide"
    }
   },
   "source": [
    "```python\n",
    "if st.button('plot'):\n",
    "     fig = px.line(title=tipo)\n",
    "     for pais in paises:\n",
    "          r=req.get('http://corona-api.com/countries/' + pais)\n",
    "          t=[]\n",
    "          casos=[]\n",
    "          muertes=[]\n",
    "          data=r.json()\n",
    "          for day in data['data']['timeline']:\n",
    "                    t.append(day['date'])\n",
    "                    casos.append(day['new_confirmed'])\n",
    "                    muertes.append(day['new_deaths'])\n",
    "          df=pd.DataFrame()\n",
    "          df.index=pd.to_datetime(t)\n",
    "          df['casos']=casos\n",
    "          df['muertes']=muertes\n",
    "          pop=data['data']['population']/100000\n",
    "          df['casos_100k']=np.array(casos)/pop\n",
    "          df['muertes_100k']=np.array(muertes)/pop\n",
    "          fig.add_scatter(x=df.index, y=df[tipo],name=pais,mode='markers+lines') \n",
    "      st.plotly_chart(fig)\n",
    "else:\n",
    "     pass\n",
    "```"
   ]
  },
  {
   "cell_type": "markdown",
   "metadata": {
    "slideshow": {
     "slide_type": "subslide"
    }
   },
   "source": [
    "Guardamos todo el codigo en un archivo \".py\" y luego lo ejecutamos desde la consola:\n",
    "    \n",
    "```shell\n",
    "streamlit run miarchivito.py\n",
    "```\n"
   ]
  },
  {
   "cell_type": "markdown",
   "metadata": {
    "slideshow": {
     "slide_type": "fragment"
    }
   },
   "source": [
    "http://192.168.0.18:8501"
   ]
  },
  {
   "cell_type": "markdown",
   "metadata": {
    "slideshow": {
     "slide_type": "slide"
    }
   },
   "source": [
    "### Muy bonito! pero como se lo muestro al cliente/jefa/mivieja? \n",
    "\n",
    "\n",
    "* Firewalls\n",
    "\n",
    "* Llamar a fibertel para que abran puertos o habiliten una DMZ\n",
    "\n",
    "* Peligroso\n",
    "\n",
    "* Siempre tiene que estar corriendo la terminal de python\n",
    "\n"
   ]
  },
  {
   "cell_type": "markdown",
   "metadata": {
    "slideshow": {
     "slide_type": "slide"
    }
   },
   "source": [
    "# Cloud computing\n",
    "\n",
    "![](2.png)"
   ]
  },
  {
   "cell_type": "markdown",
   "metadata": {
    "slideshow": {
     "slide_type": "subslide"
    }
   },
   "source": [
    "![](3.png)"
   ]
  },
  {
   "cell_type": "markdown",
   "metadata": {
    "slideshow": {
     "slide_type": "slide"
    }
   },
   "source": [
    "![](7.png)"
   ]
  },
  {
   "cell_type": "markdown",
   "metadata": {
    "slideshow": {
     "slide_type": "slide"
    }
   },
   "source": [
    "![](8.png)\n"
   ]
  },
  {
   "cell_type": "markdown",
   "metadata": {
    "slideshow": {
     "slide_type": "slide"
    }
   },
   "source": [
    "![](9.png)"
   ]
  },
  {
   "cell_type": "markdown",
   "metadata": {
    "slideshow": {
     "slide_type": "slide"
    }
   },
   "source": [
    "\n",
    "<img src=\"5.png\" style=\"width: 500px;\"/>\n",
    "\n",
    "[Repo](https://github.com/carabedo/properatti)\n",
    "[App](https://geopami.herokuapp.com/)"
   ]
  },
  {
   "cell_type": "markdown",
   "metadata": {
    "slideshow": {
     "slide_type": "slide"
    }
   },
   "source": [
    "# IAAS (infrastructure-as-a-service)\n",
    "\n",
    "\n",
    "![](iaas.jpg)\n",
    "\n"
   ]
  },
  {
   "cell_type": "markdown",
   "metadata": {
    "slideshow": {
     "slide_type": "slide"
    }
   },
   "source": [
    "\n",
    "## Virtual Machines\n",
    "\n",
    "\n",
    "Ejemplo en oracle:\n",
    "\n",
    "Creamos una vm [aca](https://cloud.oracle.com/compute/instances?region=sa-vinhedo-1)\n",
    "\n",
    "\n",
    "\n"
   ]
  },
  {
   "cell_type": "markdown",
   "metadata": {
    "slideshow": {
     "slide_type": "slide"
    }
   },
   "source": [
    "# como controlamos la vm?\n",
    "\n",
    "\n",
    "![](https://i.giphy.com/media/YQitE4YNQNahy/giphy.webp)"
   ]
  },
  {
   "cell_type": "markdown",
   "metadata": {
    "slideshow": {
     "slide_type": "slide"
    }
   },
   "source": [
    "## ssh\n",
    "\n",
    "\n",
    "Le cambiamos los permisos a la llave que nos bajamos:\n",
    "\n",
    "`chmod 400 <private_key_file>`\n",
    "\n",
    "En mi caso:\n",
    "\n",
    "`ssh -i sshtest.key` \n",
    "\n",
    "Nos conectamos a una terminal de la maquina virtual usando la llave:\n",
    "\n",
    "`ssh -i <private_key_file> <username>@<public-ip-address>`\n",
    "\n",
    "En mi caso:\n",
    "\n",
    "` ssh -i sshtest.key opc@193.123.101.232`      \n",
    "\n",
    "[tutorial de oracle](https://docs.oracle.com/en-us/iaas/Content/Compute/Tasks/accessinginstance.htm)"
   ]
  },
  {
   "cell_type": "markdown",
   "metadata": {
    "slideshow": {
     "slide_type": "slide"
    }
   },
   "source": [
    "## ssh\n",
    "\n",
    "Creemos una carpeta:\n",
    "\n",
    "`mkdir prueba`\n",
    "\n",
    "Entremos en la carpeta y creemos un archivo con codigo en python\n",
    "\n",
    "```\n",
    "    cd prueba\n",
    "    vim prueba.py\n",
    "```\n",
    "\n",
    "Ejecutemos nuestro script:\n",
    "\n",
    "`python3 prueba.py`"
   ]
  },
  {
   "cell_type": "markdown",
   "metadata": {
    "slideshow": {
     "slide_type": "slide"
    }
   },
   "source": [
    "### Subiendo archivos\n",
    "\n",
    "Desde una consola local usamos el programita scp (secure copy):\n",
    "\n",
    "`scp -i key.pem -r /path/local/files root@:0.0.0.0:/path/on/my/server`\n",
    "\n",
    "\n",
    "Necitamos la ip publica del servidor, en nuestro caso quedaria asi:\n",
    "\n",
    "\n",
    "`scp -i sshtest.key  ./server_bokeh.py opc@193.123.101.232:/home/opc/prueba`  \n",
    "\n",
    "\n",
    "Esto subiria el archivo `server_bokeh.py` a la maquina virtual a una carpeta llamada `prueba`. Solo funciona si ejecuto el comando en la misma carpeta donde se encuentra dicho archivo y la llave.\n",
    "\n",
    "\n",
    "### Subiendo carpetas\n",
    "\n",
    "* -r recursivamente la carpeta templates\n",
    "\n",
    "`scp -i sshtest.key  -r ./templates/ opc@193.123.101.232:/home/opc/prueba`   "
   ]
  },
  {
   "cell_type": "markdown",
   "metadata": {
    "slideshow": {
     "slide_type": "slide"
    }
   },
   "source": [
    "## ssh con visualcode\n",
    "\n",
    "<img src='https://code.visualstudio.com/assets/docs/remote/ssh-tutorial/remote-ssh-extension.png' width='500' />\n",
    "\n"
   ]
  },
  {
   "cell_type": "markdown",
   "metadata": {
    "slideshow": {
     "slide_type": "slide"
    }
   },
   "source": [
    "<img src='https://code.visualstudio.com/assets/docs/remote/ssh-tutorial/remote-commands.png' width='500' />"
   ]
  },
  {
   "cell_type": "markdown",
   "metadata": {
    "slideshow": {
     "slide_type": "slide"
    }
   },
   "source": [
    "Hay que editar el archivo que guarda la direccion de las maquinas virtuales y la ubicacion en nuestra compu de las llaves. En Host ponemos el nombre que queremos, HostName es la ip de la maquina, luego el path de la .key en nuestra compu y por ultimo el nombre del usuario en la maquina virtual para las vms de oracle es `opc`.\n",
    "\n",
    "```\n",
    "Host Oracle\n",
    "  HostName 193.123.110.190\n",
    "  IdentityFile /Users/fernando/gits/deploy/sshtest.key\n",
    "  User opc\n",
    "```\n",
    "\n",
    "No importa en que plataforma tenemos nuestra maquina virtual, solo necesitamos la ip publica, una llave y saber el nombre de nuestro usuario."
   ]
  },
  {
   "cell_type": "markdown",
   "metadata": {
    "slideshow": {
     "slide_type": "slide"
    }
   },
   "source": [
    "### Instalamos conda: \n",
    "\n",
    "es una VM vacia, necesitamos instalar todas las librerias que vamos a usar\n",
    "\n",
    "`wget https://repo.continuum.io/miniconda/Miniconda3-latest-Linux-x86_64.sh`\n",
    "\n",
    "`sh Miniconda3-latest-Linux-x86_64.sh`"
   ]
  },
  {
   "cell_type": "markdown",
   "metadata": {
    "slideshow": {
     "slide_type": "slide"
    }
   },
   "source": [
    "# flask en una vm\n",
    "\n",
    "* levantemos un servidor de flask en nuestra vm, guardamos el codigo en `app.py`.\n",
    "\n",
    "`flask run --host=0.0.0.0`\n",
    "\n",
    "* abrimos el puerto donde esta flask:\n",
    "\n",
    "`sudo iptables -I INPUT 6 -m state --state NEW -p tcp --dport 5000 -j ACCEPT`\n",
    "\n",
    "* agregamos una `Ingress Rules` en la `Security List` de la subnet asociada a nuestra VM desde la pagina de oracle.\n",
    "\n",
    "\n",
    "ahora nuestra 'app' es accesible desde cualquier maquina\n",
    "\n",
    "\n",
    "\n",
    "\n",
    "* http://193.123.110.190:5002/?a=4\n",
    "\n",
    "\n",
    "\n"
   ]
  },
  {
   "cell_type": "markdown",
   "metadata": {
    "slideshow": {
     "slide_type": "slide"
    }
   },
   "source": [
    "# flask+plotly en una vm\n",
    "\n",
    "* levantemos un servidor de flask+plotly en nuestra vm.\n",
    "\n",
    "`flask run --host=0.0.0.0`\n",
    "\n",
    "* solo podemos tener una app por puerto \n",
    "\n",
    "ahora nuestra 'app' es accesible desde cualquier maquina\n",
    "\n",
    "\n",
    "\n",
    "\n",
    "* http://193.123.110.190:5000/?paises=['AR','FR','ES']&tipo='muertes_100k'\n",
    "\n",
    "\n",
    "\n"
   ]
  },
  {
   "cell_type": "markdown",
   "metadata": {
    "slideshow": {
     "slide_type": "slide"
    }
   },
   "source": [
    "# screen\n",
    "\n",
    "un programa que nos permite cerrar la consola sin que nuestro servidor deje de funcionar.\n",
    "\n",
    "`sudo yum install screen`\n",
    "\n",
    "iniciamos la sesion \n",
    "\n",
    "`screen`\n",
    "\n",
    "abrimos el servidor\n",
    "\n",
    "`detach from the session using Clrl+A and then press d.`\n",
    "\n",
    "`screen -ls` vemos las sessiones abiertas\n",
    "\n",
    "`screen -r ID` nos volvemos a conectar\n",
    "\n"
   ]
  },
  {
   "cell_type": "markdown",
   "metadata": {
    "slideshow": {
     "slide_type": "slide"
    }
   },
   "source": [
    "Tambien podemos crear sessiones con nombres mas faciles de recordar\n",
    "\n",
    "`screen -S plotlyserver`\n",
    "\n",
    "\n",
    "`screen -r  plotlyserver` \n",
    "\n"
   ]
  },
  {
   "cell_type": "markdown",
   "metadata": {
    "slideshow": {
     "slide_type": "slide"
    }
   },
   "source": [
    "# Serverless\n",
    "![](6.png)"
   ]
  },
  {
   "cell_type": "markdown",
   "metadata": {
    "slideshow": {
     "slide_type": "slide"
    }
   },
   "source": [
    "# lambdas (aws)\n",
    "\n",
    "### api gateway\n",
    "### layers\n",
    "\n",
    "https://github.com/keithrozario/Klayers\n",
    "\n",
    "### test&deploy\n",
    "\n",
    "```python\n",
    "import json\n",
    "import numpy as np\n",
    "\n",
    "def lambda_handler(event, context):\n",
    "    body = json.loads(event['body'])\n",
    "    x=np.array(body['x'])\n",
    "    y=x**2 \n",
    "    result=[{'body' : body, 'y' : y.tolist(), 'name' : 'cuadratica'}]\n",
    "    return {\n",
    "        'statusCode': 200,\n",
    "        'body': json.dumps(result)\n",
    "    }\n",
    "```\n"
   ]
  },
  {
   "cell_type": "code",
   "execution_count": 50,
   "metadata": {
    "slideshow": {
     "slide_type": "slide"
    }
   },
   "outputs": [
    {
     "data": {
      "text/plain": [
       "<Response [200]>"
      ]
     },
     "execution_count": 50,
     "metadata": {},
     "output_type": "execute_result"
    }
   ],
   "source": [
    "import numpy as np\n",
    "data={\"x\": np.array([1,2,3,4]).tolist()}\n",
    "respuesta=req.post('https://6xpc1u0n12.execute-api.us-east-2.amazonaws.com/default/test2',json=data)\n",
    "respuesta"
   ]
  },
  {
   "cell_type": "code",
   "execution_count": 51,
   "metadata": {
    "scrolled": true,
    "slideshow": {
     "slide_type": "fragment"
    }
   },
   "outputs": [
    {
     "data": {
      "text/plain": [
       "[{'body': {'x': [1, 2, 3, 4]}, 'y': [1, 4, 9, 16], 'name': 'cuadratica'}]"
      ]
     },
     "execution_count": 51,
     "metadata": {},
     "output_type": "execute_result"
    }
   ],
   "source": [
    "respuesta.json()"
   ]
  },
  {
   "cell_type": "code",
   "execution_count": 52,
   "metadata": {
    "slideshow": {
     "slide_type": "fragment"
    }
   },
   "outputs": [
    {
     "data": {
      "text/plain": [
       "(list, int)"
      ]
     },
     "execution_count": 52,
     "metadata": {},
     "output_type": "execute_result"
    }
   ],
   "source": [
    "type(respuesta.json()[0]['y']),type(respuesta.json()[0]['y'][0])"
   ]
  },
  {
   "cell_type": "code",
   "execution_count": 53,
   "metadata": {
    "scrolled": false,
    "slideshow": {
     "slide_type": "slide"
    }
   },
   "outputs": [
    {
     "data": {
      "text/html": [
       "<div>\n",
       "<style scoped>\n",
       "    .dataframe tbody tr th:only-of-type {\n",
       "        vertical-align: middle;\n",
       "    }\n",
       "\n",
       "    .dataframe tbody tr th {\n",
       "        vertical-align: top;\n",
       "    }\n",
       "\n",
       "    .dataframe thead th {\n",
       "        text-align: right;\n",
       "    }\n",
       "</style>\n",
       "<table border=\"1\" class=\"dataframe\">\n",
       "  <thead>\n",
       "    <tr style=\"text-align: right;\">\n",
       "      <th></th>\n",
       "      <th>temp</th>\n",
       "      <th>venta</th>\n",
       "    </tr>\n",
       "  </thead>\n",
       "  <tbody>\n",
       "    <tr>\n",
       "      <th>0</th>\n",
       "      <td>12.2</td>\n",
       "      <td>125</td>\n",
       "    </tr>\n",
       "    <tr>\n",
       "      <th>1</th>\n",
       "      <td>14.4</td>\n",
       "      <td>175</td>\n",
       "    </tr>\n",
       "    <tr>\n",
       "      <th>2</th>\n",
       "      <td>15.0</td>\n",
       "      <td>325</td>\n",
       "    </tr>\n",
       "    <tr>\n",
       "      <th>3</th>\n",
       "      <td>16.7</td>\n",
       "      <td>275</td>\n",
       "    </tr>\n",
       "    <tr>\n",
       "      <th>4</th>\n",
       "      <td>17.8</td>\n",
       "      <td>425</td>\n",
       "    </tr>\n",
       "    <tr>\n",
       "      <th>5</th>\n",
       "      <td>18.3</td>\n",
       "      <td>400</td>\n",
       "    </tr>\n",
       "    <tr>\n",
       "      <th>6</th>\n",
       "      <td>19.4</td>\n",
       "      <td>450</td>\n",
       "    </tr>\n",
       "    <tr>\n",
       "      <th>7</th>\n",
       "      <td>22.2</td>\n",
       "      <td>425</td>\n",
       "    </tr>\n",
       "    <tr>\n",
       "      <th>8</th>\n",
       "      <td>22.8</td>\n",
       "      <td>450</td>\n",
       "    </tr>\n",
       "    <tr>\n",
       "      <th>9</th>\n",
       "      <td>23.9</td>\n",
       "      <td>525</td>\n",
       "    </tr>\n",
       "    <tr>\n",
       "      <th>10</th>\n",
       "      <td>25.0</td>\n",
       "      <td>550</td>\n",
       "    </tr>\n",
       "    <tr>\n",
       "      <th>11</th>\n",
       "      <td>26.7</td>\n",
       "      <td>625</td>\n",
       "    </tr>\n",
       "  </tbody>\n",
       "</table>\n",
       "</div>"
      ],
      "text/plain": [
       "    temp  venta\n",
       "0   12.2    125\n",
       "1   14.4    175\n",
       "2   15.0    325\n",
       "3   16.7    275\n",
       "4   17.8    425\n",
       "5   18.3    400\n",
       "6   19.4    450\n",
       "7   22.2    425\n",
       "8   22.8    450\n",
       "9   23.9    525\n",
       "10  25.0    550\n",
       "11  26.7    625"
      ]
     },
     "execution_count": 53,
     "metadata": {},
     "output_type": "execute_result"
    }
   ],
   "source": [
    "import pandas as pd\n",
    "\n",
    "df=pd.read_csv('https://raw.githubusercontent.com/carabedo/labs/master/data/freddo.csv')\n",
    "df"
   ]
  },
  {
   "cell_type": "code",
   "execution_count": 54,
   "metadata": {
    "slideshow": {
     "slide_type": "slide"
    }
   },
   "outputs": [
    {
     "data": {
      "text/plain": [
       "<Response [200]>"
      ]
     },
     "execution_count": 54,
     "metadata": {},
     "output_type": "execute_result"
    }
   ],
   "source": [
    "data={'x': df.values.tolist()}\n",
    "respuesta=req.post('https://6xpc1u0n12.execute-api.us-east-2.amazonaws.com/default/test2',json=data)\n",
    "respuesta"
   ]
  },
  {
   "cell_type": "code",
   "execution_count": 55,
   "metadata": {
    "slideshow": {
     "slide_type": "fragment"
    }
   },
   "outputs": [
    {
     "data": {
      "text/plain": [
       "[[148.83999999999997, 15625.0],\n",
       " [207.36, 30625.0],\n",
       " [225.0, 105625.0],\n",
       " [278.89, 75625.0],\n",
       " [316.84000000000003, 180625.0],\n",
       " [334.89000000000004, 160000.0],\n",
       " [376.35999999999996, 202500.0],\n",
       " [492.84, 180625.0],\n",
       " [519.84, 202500.0],\n",
       " [571.2099999999999, 275625.0],\n",
       " [625.0, 302500.0],\n",
       " [712.89, 390625.0]]"
      ]
     },
     "execution_count": 55,
     "metadata": {},
     "output_type": "execute_result"
    }
   ],
   "source": [
    "respuesta.json()[0]['y']"
   ]
  },
  {
   "cell_type": "code",
   "execution_count": 56,
   "metadata": {
    "slideshow": {
     "slide_type": "fragment"
    }
   },
   "outputs": [
    {
     "data": {
      "text/plain": [
       "(list, list, float)"
      ]
     },
     "execution_count": 56,
     "metadata": {},
     "output_type": "execute_result"
    }
   ],
   "source": [
    "type(respuesta.json()[0]['y']),type(respuesta.json()[0]['y'][0]),type(respuesta.json()[0]['y'][0][0])"
   ]
  },
  {
   "cell_type": "markdown",
   "metadata": {
    "slideshow": {
     "slide_type": "slide"
    }
   },
   "source": [
    "Links\n",
    "---\n",
    "\n",
    "### setear flask en una vm:\n",
    "\n",
    "https://developer.oracle.com/oracle-cloud-infrastructure/compute-vm-simple-tutorial/\n",
    "https://docs.oracle.com/es-ww/iaas/developer-tutorials/tutorials/flask-on-ubuntu/01oci-ubuntu-flask-summary.html\n",
    "\n",
    "### instalar conda en oracle linux 7\n",
    "\n",
    "https://deeplearning.lipingyang.org/2018/12/24/install-miniconda-on-centos-7-redhat-7/"
   ]
  }
 ],
 "metadata": {
  "celltoolbar": "Slideshow",
  "kernelspec": {
   "display_name": "Python 3 (ipykernel)",
   "language": "python",
   "name": "python3"
  },
  "language_info": {
   "codemirror_mode": {
    "name": "ipython",
    "version": 3
   },
   "file_extension": ".py",
   "mimetype": "text/x-python",
   "name": "python",
   "nbconvert_exporter": "python",
   "pygments_lexer": "ipython3",
   "version": "3.9.6"
  }
 },
 "nbformat": 4,
 "nbformat_minor": 4
}
