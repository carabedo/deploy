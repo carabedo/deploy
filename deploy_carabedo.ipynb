{
 "cells": [
  {
   "cell_type": "markdown",
   "metadata": {
    "slideshow": {
     "slide_type": "slide"
    }
   },
   "source": [
    "# Flask:\n",
    "\n",
    "Nos permite apificar nuestro modelo, en realidad cualquier script de python. Podemos enviar un GET requests a algun puerto de nuestra computadora. Ese requests puede contener los parametros que luego el script va usar.\n",
    "\n",
    "En este ejemplo, una simple app que imprime el cuadrado de la variable 'a' si es que existe:\n",
    "\n",
    "```python\n",
    "from flask import Flask, jsonify, request\n",
    "\n",
    "app = Flask('Servidor Get')\n",
    "@app.route('/',methods=['GET'])\n",
    "\n",
    "def hola():\n",
    "   \n",
    "    # obtengo los datos del request get.\n",
    "    # notar que en este contexto request contiene la informacion \n",
    "    # que viene de la peticion externa (el metodo get_json lo transforma en un diccionario)\n",
    "    data=request.args.to_dict()\n",
    "    try:            \n",
    "        resp='el cuadrado de a es : '+str(int(data['a'])*int(data['a']))\n",
    "    except:\n",
    "        resp='no se envio la variable a'\n",
    "    return(resp)\n",
    "\n",
    "app.run(host='0.0.0.0',  port=5002 )\n",
    "```"
   ]
  },
  {
   "cell_type": "markdown",
   "metadata": {
    "slideshow": {
     "slide_type": "subslide"
    }
   },
   "source": [
    "```python\n",
    "from flask import Flask, jsonify, request\n",
    "\n",
    "app = Flask('Servidor Get')\n",
    "@app.route('/',methods=['GET'])\n",
    "\n",
    "def hola():\n",
    "   \n",
    "    # obtengo los datos del request get.\n",
    "    # notar que en este contexto request contiene la informacion \n",
    "    # que viene de la peticion externa (el metodo get_json lo transforma en un diccionario)\n",
    "    data=request.args.to_dict()\n",
    "    try:            \n",
    "        resp='el cuadrado de a es : '+str(int(data['a'])*int(data['a']))\n",
    "    except:\n",
    "        resp='no se envio la variable a'\n",
    "    return(resp)\n",
    "\n",
    "app.run(host='0.0.0.0',  port=5002 )\n",
    "```\n",
    "\n",
    "* http://127.0.0.1:5002/?a=4\n",
    "\n",
    "* http://127.0.0.1:5002/?a=4&b='asdfasf'\n",
    "\n",
    "* http://127.0.0.1:5002/?c=4&k=2342\n",
    "\n",
    "* http://127.0.0.1:5002/?c=4&a=['1','12']\n",
    "\n"
   ]
  },
  {
   "cell_type": "markdown",
   "metadata": {
    "slideshow": {
     "slide_type": "slide"
    }
   },
   "source": [
    "### The GET Method\n",
    "\n",
    "**GET is used to request data from a specified resource.**\n",
    "\n",
    "GET is one of the most common HTTP methods.\n",
    "\n",
    "Note that the query string (name/value pairs) is sent in the URL of a GET request:\n",
    "\n",
    ">/test/demo_form.php?name1=value1&name2=value2\n",
    "\n",
    "\n",
    "* GET requests can be cached\n",
    "* GET requests remain in the browser history\n",
    "* GET requests can be bookmarked\n",
    "* GET requests should never be used when dealing with sensitive data\n",
    "* GET requests have length restrictions\n",
    "* GET requests are only used to request data (not modify)"
   ]
  },
  {
   "cell_type": "markdown",
   "metadata": {
    "slideshow": {
     "slide_type": "subslide"
    }
   },
   "source": [
    "### The POST Method\n",
    "\n",
    "**POST is used to send data to a server to create/update a resource.**\n",
    "\n",
    ">The data sent to the server with POST is stored in the request body of the HTTP request:\n",
    "\n",
    "```\n",
    "POST /test/demo_form.php HTTP/1.1\n",
    "Host: w3schools.com\n",
    "name1=value1&name2=value2\n",
    "POST is one of the most common HTTP methods.\n",
    "```\n",
    "\n",
    "Some other notes on POST requests:\n",
    "\n",
    "* POST requests are never cached\n",
    "* POST requests do not remain in the browser history\n",
    "* POST requests cannot be bookmarked\n",
    "* POST requests have no restrictions on data length"
   ]
  },
  {
   "cell_type": "markdown",
   "metadata": {
    "slideshow": {
     "slide_type": "subslide"
    }
   },
   "source": [
    "Queremos pasar la variable 'a' como un vector, con el metodo POST es muy sencillo."
   ]
  },
  {
   "cell_type": "code",
   "execution_count": 42,
   "metadata": {
    "slideshow": {
     "slide_type": "fragment"
    }
   },
   "outputs": [
    {
     "data": {
      "text/plain": [
       "<Response [200]>"
      ]
     },
     "execution_count": 42,
     "metadata": {},
     "output_type": "execute_result"
    }
   ],
   "source": [
    "import requests as req\n",
    "import json\n",
    "\n",
    "# parametros, la url y un diccionario\n",
    "\n",
    "url='http://127.0.0.1:5001/'\n",
    "data = { \"a\": ['1', '-2', '4', '13', '5', '0', '10', '1'] ,\n",
    "          'b' : 2342 }\n",
    "\n",
    "# el requests\n",
    "r = req.post(url, json.dumps(data))\n",
    "r"
   ]
  },
  {
   "cell_type": "code",
   "execution_count": 43,
   "metadata": {
    "slideshow": {
     "slide_type": "fragment"
    }
   },
   "outputs": [
    {
     "data": {
      "text/plain": [
       "{'response': [1, 4, 16, 169, 25, 0, 100, 1]}"
      ]
     },
     "execution_count": 43,
     "metadata": {},
     "output_type": "execute_result"
    }
   ],
   "source": [
    "r.json()"
   ]
  },
  {
   "cell_type": "code",
   "execution_count": 38,
   "metadata": {
    "slideshow": {
     "slide_type": "fragment"
    }
   },
   "outputs": [
    {
     "data": {
      "text/plain": [
       "[1, 4, 16, 169, 25, 0, 100, 1]"
      ]
     },
     "execution_count": 38,
     "metadata": {},
     "output_type": "execute_result"
    }
   ],
   "source": [
    "r.json()['response']"
   ]
  },
  {
   "cell_type": "code",
   "execution_count": 44,
   "metadata": {
    "slideshow": {
     "slide_type": "fragment"
    }
   },
   "outputs": [
    {
     "data": {
      "text/plain": [
       "list"
      ]
     },
     "execution_count": 44,
     "metadata": {},
     "output_type": "execute_result"
    }
   ],
   "source": [
    "type(r.json()['response'])"
   ]
  },
  {
   "cell_type": "code",
   "execution_count": 14,
   "metadata": {
    "slideshow": {
     "slide_type": "subslide"
    }
   },
   "outputs": [],
   "source": [
    "from flask import Flask, jsonify, request\n",
    "app = Flask('Predictor de examenes')\n",
    "#aclaramos la ruta del recurso y el tipo: (podriamos poner /modelos/listener)\n",
    "@app.route('/',methods=['POST'])\n",
    "#solo con esta linea, ya tenemos un recurso recibiendo requests en \"127.0.0.1/\".\n",
    "\n",
    "#defino la funcion que manejarara el request\n",
    "def predict():\n",
    "    # obtengo los datos del request post.\n",
    "    # notar que en este contexto request contiene la informacion \n",
    "    # que viene de la peticion externa (el metodo get_json lo transforma en un diccionario)\n",
    "    data = request.get_json(force=True)\n",
    "    try:\n",
    "        a_vector = np.array(data['a']).astype('int')\n",
    "        # Le damos forma de un diccionario para poder hacer el traspaso a json trivialmente\n",
    "        a_2=a_vector**2\n",
    "        #importante pasar a lista     \n",
    "        resp={'response' : a_2.tolist() }\n",
    "    except:\n",
    "        print('no mandaron a')\n",
    "        resp={'response' : 'no esta presente la variable a'}\n",
    "       \n",
    "        # en esta linea, transformamos el diccionario en json con jsonify (funcionalidad de flask)\n",
    "        # y respondemos el request con un json mediante este return\n",
    "        # este json es incorporado en el cuerpo de la respuesta\n",
    "    return jsonify(resp)"
   ]
  },
  {
   "cell_type": "markdown",
   "metadata": {
    "slideshow": {
     "slide_type": "slide"
    }
   },
   "source": [
    "# Ok... algo un poco mas interactivo, no hay?"
   ]
  },
  {
   "cell_type": "code",
   "execution_count": 46,
   "metadata": {
    "slideshow": {
     "slide_type": "subslide"
    }
   },
   "outputs": [],
   "source": [
    "from bokeh.embed import components\n",
    "from bokeh.plotting import figure\n",
    "from bokeh.resources import INLINE\n",
    "from flask import Flask, jsonify, request, render_template\n",
    "import numpy as np\n",
    "from bokeh.models import Range1d\n",
    "\n",
    "app = Flask('Ejemplo Bokeh')\n",
    "@app.route('/',methods=['GET'])\n",
    "def bokeh():\n",
    "    data=request.args.to_dict()\n",
    "    a=int(data['a'])\n",
    "    b=int(data['b'])\n",
    "    n=int(data['n'])\n",
    "    x=np.linspace(0,10,n)\n",
    "    y=a*np.sin(b*x)\n",
    "    fig = figure(plot_width=1280, plot_height=600)\n",
    "    fig.line(x,y)\n",
    "    left, right, bottom, top = 0, 10, -10, 10\n",
    "    fig.x_range=Range1d(left, right)\n",
    "    fig.y_range=Range1d(bottom, top)\n",
    "    # magia html del bokeh\n",
    "    js_resources = INLINE.render_js()\n",
    "    css_resources = INLINE.render_css()\n",
    "    script, div = components(fig)\n",
    "    html = render_template(\n",
    "        'index.html',\n",
    "        plot_script=script,\n",
    "        plot_div=div,\n",
    "        js_resources=js_resources,\n",
    "        css_resources=css_resources,\n",
    "    )\n",
    "    return html.encode('utf8')\n",
    "# app.run(host='0.0.0.0',  port=5002)"
   ]
  },
  {
   "cell_type": "markdown",
   "metadata": {
    "slideshow": {
     "slide_type": "subslide"
    }
   },
   "source": [
    "Esta app de Flask genera un servidor de Bokeh, con el cual podemos interactuar!\n",
    "Es un ploteo de una funcion trigonometrica definida segun:\n",
    "\n",
    "$$ x =  (x_0,x_1,x_2,...,x_n) $$\n",
    "$$ f(x) = a \\cdot sen(b \\cdot x ) $$\n",
    "\n",
    "\n",
    "*   http://127.0.0.1:5002/?a=2&b=10&n=1000\n",
    "*   http://127.0.0.1:5002/?a=2&b=50&n=1000\n",
    "*   http://127.0.0.1:5002/?a=2&b=80&n=10000\n"
   ]
  },
  {
   "cell_type": "markdown",
   "metadata": {
    "slideshow": {
     "slide_type": "fragment"
    }
   },
   "source": [
    "## Y dash? Eso que plotly me quiere vender todo el tiempo?"
   ]
  },
  {
   "cell_type": "markdown",
   "metadata": {
    "slideshow": {
     "slide_type": "slide"
    }
   },
   "source": [
    "# Streamlit\n",
    "\n",
    "* Flask tiene la gran desventaja que solo se puede interactuar mediante requests.\n",
    "\n",
    "* Streamlit es un framework para crear web-apps de una manera super sencilla y dinámica.\n",
    "\n",
    "* Todos los elementos de una página web son definidos en un **script de python**. Cada uno será definido por una función y a medida que los agregamos podemos ver su resultado en una página de nuestro navegador.\n"
   ]
  },
  {
   "cell_type": "markdown",
   "metadata": {
    "slideshow": {
     "slide_type": "subslide"
    }
   },
   "source": [
    "![](https://raw.githubusercontent.com/streamlit/streamlit/develop/docs/_static/img/Streamlit_overview.gif)"
   ]
  },
  {
   "cell_type": "markdown",
   "metadata": {
    "slideshow": {
     "slide_type": "subslide"
    }
   },
   "source": [
    "```python\n",
    "import streamlit as st\n",
    "\n",
    "x=st.slider('eleji valor')\n",
    "\n",
    "st.write('el cubo de ',x , ' es', x*x*x)\n",
    "```"
   ]
  },
  {
   "cell_type": "markdown",
   "metadata": {
    "slideshow": {
     "slide_type": "fragment"
    }
   },
   "source": [
    "![](1.png)"
   ]
  },
  {
   "cell_type": "markdown",
   "metadata": {
    "slideshow": {
     "slide_type": "subslide"
    }
   },
   "source": [
    "https://www.streamlit.io/"
   ]
  },
  {
   "cell_type": "markdown",
   "metadata": {
    "slideshow": {
     "slide_type": "subslide"
    }
   },
   "source": [
    "\n",
    "* Las apps de Streamlit son scripts de python que se ejecutan secuencialmente. \n",
    "\n",
    "* Cada vez que un usuario accede a la app, el script se re ejecuta.\n",
    "\n",
    "* Duran la ejeccion, Streamlit muestra el output en el navegador.\n",
    "\n",
    "* Cada interaccion con un widget hace que el script se re-ejecute con el nuevo valor del widget.\n",
    "\n",
    "* Se puede usar **cache** para evitar recalcular funciones muy pesadas, mejorando el tiempo de respuesta de la app.\n"
   ]
  },
  {
   "cell_type": "markdown",
   "metadata": {
    "slideshow": {
     "slide_type": "subslide"
    }
   },
   "source": [
    "## Widgets\n",
    "\n",
    "When you’ve got the data or model into the state that you want to explore, you can add in widgets like st.slider(), st.button() or st.selectbox(). It’s really straightforward — treat widgets as variables:\n",
    "\n",
    "```python\n",
    "import streamlit as st\n",
    "x = st.slider('x')  # 👈 this is a widget\n",
    "st.write(x, 'squared is', x * x)\n",
    "```\n",
    "\n",
    "On first run, the app above should output the text “0 squared is 0”. Then every time a user interacts with a widget, Streamlit simply reruns your script from top to bottom, assigning the current state of the widget to your variable in the process.\n",
    "\n",
    "For example, if the user moves the slider to position 10, Streamlit will rerun the code above and set x to 10 accordingly. So now you should see the text “10 squared is 100”."
   ]
  },
  {
   "cell_type": "markdown",
   "metadata": {
    "slideshow": {
     "slide_type": "subslide"
    }
   },
   "source": [
    "```python\n",
    "import streamlit as st\n",
    "import pandas as pd \n",
    "import numpy as np\n",
    "import matplotlib.pyplot as plt\n",
    "from bokeh.plotting import figure\n",
    "\n",
    "# widget de latex\n",
    "st.latex('f(x) = a\\sin( \\omega  x)')\n",
    "\n",
    "# widget input numerica\n",
    "a = st.number_input('Insert a',1)\n",
    "\n",
    "# texto\n",
    "st.write('a = ', a)\n",
    "\n",
    "#widget de sliders\n",
    "b = st.slider('w', 0, 10, 1)\n",
    "n = st.slider('n', 0, 500, 25) \n",
    "\n",
    "# python \n",
    "x=np.linspace(0,10,int(n))\n",
    "y=a*np.sin(b*x)\n",
    "p = figure(\n",
    "     title='plot',\n",
    "     x_axis_label='x',\n",
    "     y_axis_label='y')\n",
    "p.line(x, y, legend_label='sin(x)', line_width=2)\n",
    "p.circle(x, y, legend_label='sin(x)', line_width=2)\n",
    "\n",
    "#widget de bokeh\n",
    "st.bokeh_chart(p, use_container_width=True)\n",
    "```"
   ]
  },
  {
   "cell_type": "markdown",
   "metadata": {
    "slideshow": {
     "slide_type": "subslide"
    }
   },
   "source": [
    "Guardamos todo el codigo en un archivo \".py\" y luego lo ejecutamos desde la consola:\n",
    "    \n",
    "```shell\n",
    "streamlit run miarchivito.py\n",
    "```\n"
   ]
  },
  {
   "cell_type": "code",
   "execution_count": 48,
   "metadata": {
    "slideshow": {
     "slide_type": "fragment"
    }
   },
   "outputs": [
    {
     "name": "stdout",
     "output_type": "stream",
     "text": [
      "^C\n"
     ]
    }
   ],
   "source": [
    "!streamlit run bokeh_st.py\n"
   ]
  },
  {
   "cell_type": "markdown",
   "metadata": {
    "slideshow": {
     "slide_type": "fragment"
    }
   },
   "source": [
    "### muy bonito! pero como se lo muestro al CLIENTE/JEFE/MIVIEJA? \n",
    "\n",
    "\n",
    "* Firewalls\n",
    "\n",
    "* Llamar a fibertel para que abran puertos o habiliten una DMZ\n",
    "\n",
    "* Peligroso\n",
    "\n",
    "* Siempre tiene que estar corriendo la terminal de python\n",
    "\n"
   ]
  },
  {
   "cell_type": "markdown",
   "metadata": {
    "slideshow": {
     "slide_type": "slide"
    }
   },
   "source": [
    "# Cloud computing\n",
    "\n",
    "![](2.png)"
   ]
  },
  {
   "cell_type": "markdown",
   "metadata": {
    "slideshow": {
     "slide_type": "subslide"
    }
   },
   "source": [
    "![](3.png)"
   ]
  },
  {
   "cell_type": "markdown",
   "metadata": {
    "slideshow": {
     "slide_type": "subslide"
    }
   },
   "source": [
    "### Heroku\n",
    "\n",
    "* Gratis, sin tarjeta de credito a diferencia de AWS\n",
    "\n",
    "* Se integra muy bien con GITHUB\n",
    "\n",
    "Una vez que tenemos nuestra app de streamlit funcionando en nuestra compu, creamos un repo en github y subimos el \".py\" con nuestra app y 3 archivos mas:\n",
    "\n",
    "```shell\n",
    "app_st.py\n",
    "requirements.txt\n",
    "runtime.txt\n",
    "Procfile\n",
    "create_config.sh\n",
    "```\n"
   ]
  },
  {
   "cell_type": "markdown",
   "metadata": {
    "slideshow": {
     "slide_type": "subslide"
    }
   },
   "source": [
    "![](4.png)\n"
   ]
  },
  {
   "cell_type": "markdown",
   "metadata": {
    "slideshow": {
     "slide_type": "subslide"
    }
   },
   "source": [
    "Repo https://github.com/carabedo/geopami\n",
    "\n",
    "App https://geopami.herokuapp.com/"
   ]
  }
 ],
 "metadata": {
  "celltoolbar": "Slideshow",
  "kernelspec": {
   "display_name": "Python 3",
   "language": "python",
   "name": "python3"
  },
  "language_info": {
   "codemirror_mode": {
    "name": "ipython",
    "version": 3
   },
   "file_extension": ".py",
   "mimetype": "text/x-python",
   "name": "python",
   "nbconvert_exporter": "python",
   "pygments_lexer": "ipython3",
   "version": "3.7.4"
  }
 },
 "nbformat": 4,
 "nbformat_minor": 4
}
